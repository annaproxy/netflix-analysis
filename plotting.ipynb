{
 "cells": [
  {
   "cell_type": "code",
   "execution_count": null,
   "metadata": {},
   "outputs": [],
   "source": [
    "from datetime import timedelta, datetime\n",
    "import numpy as np \n",
    "import pandas as pd # >= 1.2.4\n",
    "import seaborn as sns\n",
    "import matplotlib.pylab as plt \n",
    "from matplotlib.dates import MonthLocator \n",
    "from matplotlib.dates import DateFormatter"
   ]
  },
  {
   "cell_type": "code",
   "execution_count": null,
   "metadata": {},
   "outputs": [],
   "source": [
    "from netflix_tools import Entries\n",
    "\n",
    "e = Entries(\"private/ViewingActivity.csv\")\n",
    "df = e.df \n",
    "df['startdate'] = [d.date() for d in df['start']]\n",
    "df['starttime'] = [d.hour for d in df['start']]\n",
    "df['year'] = [d.year for d in df['start']]\n",
    "df['month'] = [(d.year, d.month) for d in df['start']]\n",
    "df['month_only'] = [d.month for d in df['start']]\n",
    "df['weekday'] = [d.weekday() for d in df['start']]\n",
    "df['duration_in_minutes'] = df['duration_in_seconds'] / 60\n",
    "df['duration_in_hours'] = df['duration_in_minutes'] / 60\n",
    "df['duration_in_days'] = df['duration_in_hours'] / 24\n",
    "\n",
    "\n",
    "USERS = df['user'].unique()"
   ]
  },
  {
   "cell_type": "code",
   "execution_count": null,
   "metadata": {},
   "outputs": [],
   "source": [
    "def plot_grouped(group='user', value='duration_in_days'):\n",
    "    ax = df.groupby(group,sort=True)[value].sum()\\\n",
    "        .plot.bar(color=sns.color_palette(\"Spectral_r\",7))\n",
    "    for container in ax.containers:\n",
    "        ax.bar_label(container, fmt='%.1f')\n",
    "    if group=='weekday':\n",
    "        plt.xticks(np.arange(7),[\"Mon\",\"Tue\",\"Wed\",\"Thu\",\"Fri\",\"Sat\",\"Sun\"])\n",
    "    plt.title(f\"Busiest {group}, watch time in days\")\n",
    "    plt.ylabel(value)\n",
    "    plt.show()"
   ]
  },
  {
   "cell_type": "code",
   "execution_count": null,
   "metadata": {},
   "outputs": [],
   "source": [
    "plot_grouped()"
   ]
  },
  {
   "cell_type": "code",
   "execution_count": null,
   "metadata": {},
   "outputs": [],
   "source": [
    "plot_grouped('weekday')\n",
    "plot_grouped('year')\n",
    "plot_grouped('month_only')"
   ]
  },
  {
   "cell_type": "code",
   "execution_count": null,
   "metadata": {},
   "outputs": [],
   "source": [
    "def barplot(xaxis='startdate', yaxis='duration_in_hours', datetime=datetime(2020,1,1), size=(16,5)):\n",
    "    \"\"\"\n",
    "    Plots a stacked barplot of watchtime per netflix user.\n",
    "    xaxis should be whatever is on the x-axis: [startdate, starttime,year,month,weekday]\n",
    "    When you plot a long timeseries it is advised to pick a closer-to-now datetime\n",
    "    \"\"\"\n",
    "    df2 = df[df['start'] > datetime] \n",
    "    df2 = df2[['user',yaxis,xaxis]]\n",
    "    df2['sum'] = df2.groupby(['user', xaxis])[yaxis].transform('sum')\n",
    "    df2 = df2.drop_duplicates(subset=['user', xaxis])\n",
    "    pivot_df = df2.pivot(index=xaxis, columns='user', values='sum')\n",
    "    fig, ax = plt.subplots( figsize=size)\n",
    "\n",
    "    pivot_df.loc[:,USERS].plot(kind='bar', stacked=True, ax=ax, color=\n",
    "                               sns.color_palette(\"Spectral_r\", len(USERS)),width=0.95)\n",
    "    # Sadly pandas hates these formatters\n",
    "    #ax.xaxis.set_major_locator(MonthLocator(interval=3))\n",
    "    #ax.xaxis.set_major_formatter(DateFormatter('%Y-%m'))\n",
    "    ax.set_ylabel(yaxis)\n",
    "    ax.set_xlabel(xaxis)\n",
    "    plt.xticks(rotation=70)\n",
    "    plt.tight_layout()\n",
    "    plt.show()\n",
    "# Will plot summed (year,month) data starting from given start year\n",
    "start_year = 2020\n",
    "barplot('month', datetime=datetime(start_year,1,1), size=(14,8))"
   ]
  },
  {
   "cell_type": "code",
   "execution_count": null,
   "metadata": {},
   "outputs": [],
   "source": [
    "start_year = 2015\n",
    "barplot('year', datetime=datetime(start_year,1,1), size=(8,5))"
   ]
  },
  {
   "cell_type": "code",
   "execution_count": null,
   "metadata": {},
   "outputs": [],
   "source": [
    "def get_show(s):\n",
    "    test = s.split(':')\n",
    "    return test[0]\n",
    "def print_watch_hours(selected_user=None,topk=10):\n",
    "    df2 = df[df['start'] > datetime(2014,1,1)] \n",
    "    df2['real_title'] = [get_show(s) for s in df2['title']]\n",
    "    df2 = df2[['real_title','user','start','duration_in_hours']]\n",
    "    \n",
    "    if selected_user is not None: df2 = df2[df2['user']==selected_user]\n",
    "    df2['watched_show'] = df2.groupby([ 'real_title'])['duration_in_hours'].transform('sum')\n",
    "    yes = df2[['real_title','watched_show']].drop_duplicates().sort_values(by='watched_show', ascending=False)\n",
    "\n",
    "    print(\"Printing most watched shows for\", selected_user, \"in hours\")\n",
    "    return yes[:topk]\n",
    " \n",
    "# Will print the 20 most watched shows for the first user\n",
    "print_watch_hours(topk=20, selected_user=USERS[0])"
   ]
  }
 ],
 "metadata": {
  "kernelspec": {
   "display_name": "Python 3",
   "language": "python",
   "name": "python3"
  },
  "language_info": {
   "codemirror_mode": {
    "name": "ipython",
    "version": 3
   },
   "file_extension": ".py",
   "mimetype": "text/x-python",
   "name": "python",
   "nbconvert_exporter": "python",
   "pygments_lexer": "ipython3",
   "version": "3.8.5"
  }
 },
 "nbformat": 4,
 "nbformat_minor": 4
}
