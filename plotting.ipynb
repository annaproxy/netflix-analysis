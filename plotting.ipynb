{
 "cells": [
  {
   "cell_type": "code",
   "execution_count": 1,
   "metadata": {},
   "outputs": [],
   "source": [
    "import csv \n",
    "from datetime import timedelta, datetime\n",
    "import numpy as np \n",
    "import pandas as pd\n",
    "import seaborn as sns\n",
    "import matplotlib.pylab as plt \n",
    "from matplotlib.dates import MonthLocator \n",
    "from matplotlib.dates import DateFormatter"
   ]
  },
  {
   "cell_type": "code",
   "execution_count": 76,
   "metadata": {},
   "outputs": [],
   "source": [
    "from main import Entries\n",
    "\n",
    "e = Entries(\"private/ViewingActivity.csv\")\n",
    "df = e.df \n",
    "df['startdate'] = [d.date() for d in df['start']]\n",
    "df['starttime'] = [d.hour for d in df['start']]\n",
    "df['year'] = [d.year for d in df['start']]\n",
    "df['month'] = [(d.year, d.month) for d in df['start']]\n",
    "df['weekday'] = [d.weekday() for d in df['start']]\n",
    "USERS = df['user'].unique()"
   ]
  },
  {
   "cell_type": "code",
   "execution_count": 79,
   "metadata": {},
   "outputs": [],
   "source": [
    "\n",
    "\n",
    "def plot_thing(yaxis='startdate', datetime=datetime(2020,1,1), size=(16,5)):\n",
    "    df2 = df[df['start'] > datetime] \n",
    "    df2 = df2[['user','duration_in_seconds',yaxis]]\n",
    "    df2['sum'] = df2.groupby(['user', yaxis])['duration_in_seconds'].transform('sum')\n",
    "    df2 = df2.drop_duplicates(subset=['user', yaxis])\n",
    "    pivot_df = df2.pivot(index=yaxis, columns='user', values='sum')\n",
    "    fig, ax = plt.subplots( figsize=size)\n",
    "\n",
    "    pivot_df.loc[:,USERS].plot(kind='bar', stacked=True, ax=ax)\n",
    "    # Sadly pandas hates these formatters\n",
    "    #ax.xaxis.set_major_locator(MonthLocator(interval=3))\n",
    "    #ax.xaxis.set_major_formatter(DateFormatter('%Y-%m'))\n",
    "    ax.set_ylabel(\"Time watched in seconds\")\n",
    "    ax.set_xlabel(yaxis)\n",
    "    #print(hi.get_xticks())\n",
    "\n",
    "    #hi.yaxis.\n",
    "    plt.xticks(rotation=70)\n",
    "    plt.tight_layout()\n",
    "    plt.show()\n",
    "    \n",
    "#plot_thing('month', datetime(2015,1,1), size=(10,5))"
   ]
  },
  {
   "cell_type": "code",
   "execution_count": 81,
   "metadata": {},
   "outputs": [],
   "source": [
    "def get_show(s):\n",
    "    test = s.split(':')\n",
    "    return test[0]\n",
    "def print_watch_hours(selected_user=None,topk=10):\n",
    "    df2 = df[df['start'] > datetime(2014,1,1)] \n",
    "    df2['real_title'] = [get_show(s) for s in df2['title']]\n",
    "    df2 = df2[['real_title','user','start','duration_in_seconds']]\n",
    "    \n",
    "    if selected_user is not None: df2 = df2[df2['user']==selected_user]\n",
    "\n",
    "\n",
    "\n",
    "    df2['watched_show'] = df2.groupby([ 'real_title'])['duration_in_seconds'].transform('sum')\n",
    "    #df2.drop_duplicates(subset=[ 'real_title'])\n",
    "    df2['watched_show_hours'] = df2['watched_show'] / 60 / 60\n",
    "    yes = df2[['real_title','watched_show_hours']].drop_duplicates().sort_values(by='watched_show_hours', ascending=False)\n",
    "\n",
    "    print(\"Only\", selected_user)\n",
    "    return yes[:topk]\n",
    "    \n",
    "#print_watch_hours(topk=20, selected_user=USERS[0])"
   ]
  }
 ],
 "metadata": {
  "kernelspec": {
   "display_name": "Python 3",
   "language": "python",
   "name": "python3"
  },
  "language_info": {
   "codemirror_mode": {
    "name": "ipython",
    "version": 3
   },
   "file_extension": ".py",
   "mimetype": "text/x-python",
   "name": "python",
   "nbconvert_exporter": "python",
   "pygments_lexer": "ipython3",
   "version": "3.8.2"
  }
 },
 "nbformat": 4,
 "nbformat_minor": 4
}
